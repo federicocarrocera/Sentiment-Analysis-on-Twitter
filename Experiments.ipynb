{
 "cells": [
  {
   "cell_type": "markdown",
   "metadata": {},
   "source": [
    "<H1>Deep Learning Assignement"
   ]
  },
  {
   "cell_type": "code",
   "execution_count": 3,
   "metadata": {},
   "outputs": [
    {
     "name": "stderr",
     "output_type": "stream",
     "text": [
      "[nltk_data] Downloading package wordnet to\n",
      "[nltk_data]     C:\\Users\\Federico\\AppData\\Roaming\\nltk_data...\n",
      "[nltk_data]   Package wordnet is already up-to-date!\n"
     ]
    },
    {
     "data": {
      "text/plain": [
       "True"
      ]
     },
     "execution_count": 3,
     "metadata": {},
     "output_type": "execute_result"
    }
   ],
   "source": [
    "import matplotlib.pyplot as plt\n",
    "import os\n",
    "import re\n",
    "import shutil\n",
    "import string\n",
    "import tensorflow as tf\n",
    "import pandas as pd\n",
    "import numpy as np\n",
    "\n",
    "from tensorflow.keras import layers\n",
    "from tensorflow.keras import losses\n",
    "from tensorflow.keras.layers.experimental.preprocessing import TextVectorization\n",
    "from sklearn.model_selection import train_test_split\n",
    "from nltk.stem import WordNetLemmatizer\n",
    "from keras.preprocessing.text import Tokenizer\n",
    "from keras.preprocessing.sequence import pad_sequences\n",
    "from tensorflow.keras import layers, regularizers\n",
    "import nltk\n",
    "nltk.download('wordnet')"
   ]
  },
  {
   "cell_type": "code",
   "execution_count": 4,
   "metadata": {},
   "outputs": [],
   "source": [
    "tf.random.set_seed(16)"
   ]
  },
  {
   "cell_type": "code",
   "execution_count": 5,
   "metadata": {},
   "outputs": [],
   "source": [
    "import pickle\n",
    "\n",
    "\n",
    "file_name = \"test_splits_clean.pkl\"\n",
    "\n",
    "# Open the file for reading\n",
    "with open(file_name, 'rb') as file_obj:\n",
    "    X_test_clean, y_test_clean = pickle.load(file_obj)"
   ]
  },
  {
   "cell_type": "code",
   "execution_count": 6,
   "metadata": {},
   "outputs": [],
   "source": [
    "file_name = \"test_splits_unclean.pkl\"\n",
    "\n",
    "# Open the file for reading\n",
    "with open(file_name, 'rb') as file_obj:\n",
    "    X_test_unclean, y_test_unclean = pickle.load(file_obj)"
   ]
  },
  {
   "cell_type": "markdown",
   "metadata": {},
   "source": [
    "Test CNN models"
   ]
  },
  {
   "cell_type": "code",
   "execution_count": 14,
   "metadata": {},
   "outputs": [],
   "source": [
    "#load CNN models\n",
    "CNN_model = tf.keras.models.load_model('CNN_model')\n",
    "CNN_Tanh = tf.keras.models.load_model('CNN_model_Tanh')\n",
    "CNN_Sigmoid = tf.keras.models.load_model('CNN_model_Sigmoid')\n"
   ]
  },
  {
   "cell_type": "markdown",
   "metadata": {},
   "source": [
    "CLEAN DATA"
   ]
  },
  {
   "cell_type": "code",
   "execution_count": 15,
   "metadata": {},
   "outputs": [
    {
     "name": "stdout",
     "output_type": "stream",
     "text": [
      "5729/5729 [==============================] - 22s 4ms/step - loss: 0.4529 - accuracy: 0.8706\n",
      "CNN model accuracy: 0.8705561757087708, loss: 0.4528604745864868\n",
      "5729/5729 [==============================] - 21s 4ms/step - loss: 0.2642 - accuracy: 0.8980\n",
      "CNN model with Tanh accuracy: 0.8980443477630615 , loss: 0.2642250657081604\n",
      "5729/5729 [==============================] - 27s 5ms/step - loss: 0.2542 - accuracy: 0.8995\n",
      "CNN model with Sigmoid accuracy: 0.8994626998901367, loss: 0.2541605532169342\n"
     ]
    }
   ],
   "source": [
    "#eval the models\n",
    "loss, accuracy = CNN_model.evaluate(X_test_clean, y_test_clean)\n",
    "print(f'CNN model with Relu accuracy: {accuracy}, loss: {loss}')\n",
    "\n",
    "loss, accuracy = CNN_Tanh.evaluate(X_test_clean, y_test_clean)\n",
    "print(f'CNN model with Tanh accuracy: {accuracy} , loss: {loss}')\n",
    "\n",
    "loss, accuracy = CNN_Sigmoid.evaluate(X_test_clean, y_test_clean)\n",
    "print(f'CNN model with Sigmoid accuracy: {accuracy}, loss: {loss}')\n"
   ]
  },
  {
   "cell_type": "markdown",
   "metadata": {},
   "source": [
    "| Model                      | Accuracy | Loss      |\n",
    "|----------------------------|----------|-----------|\n",
    "| CNN model with Relu        | 0.8706   | 0.4529    |\n",
    "| CNN model with Tanh        | 0.8980   | 0.2642    |\n",
    "| CNN model with Sigmoid     | 0.8995   | 0.2542    |\n"
   ]
  },
  {
   "cell_type": "markdown",
   "metadata": {},
   "source": [
    "UNCLEAN DATA"
   ]
  },
  {
   "cell_type": "code",
   "execution_count": 18,
   "metadata": {},
   "outputs": [
    {
     "name": "stdout",
     "output_type": "stream",
     "text": [
      "5729/5729 [==============================] - 22s 4ms/step - loss: 6.3699 - accuracy: 0.3630\n",
      "CNN model with Relu accuracy: 0.36304721236228943, loss: 6.369899272918701\n",
      "5729/5729 [==============================] - 23s 4ms/step - loss: 4.1985 - accuracy: 0.3709\n",
      "CNN model with Tanh accuracy: 0.37091344594955444 , loss: 4.1985249519348145\n",
      "5729/5729 [==============================] - 24s 4ms/step - loss: 3.9936 - accuracy: 0.3626\n",
      "CNN model with Sigmoid accuracy: 0.36255624890327454, loss: 3.9935927391052246\n"
     ]
    }
   ],
   "source": [
    "#eval models on unclean data\n",
    "loss, accuracy = CNN_model.evaluate(X_test_unclean, y_test_unclean)\n",
    "print(f'CNN model with Relu accuracy: {accuracy}, loss: {loss}')\n",
    "\n",
    "loss, accuracy = CNN_Tanh.evaluate(X_test_unclean, y_test_unclean)\n",
    "print(f'CNN model with Tanh accuracy: {accuracy} , loss: {loss}')\n",
    "\n",
    "loss, accuracy = CNN_Sigmoid.evaluate(X_test_unclean, y_test_unclean)\n",
    "print(f'CNN model with Sigmoid accuracy: {accuracy}, loss: {loss}')"
   ]
  },
  {
   "cell_type": "markdown",
   "metadata": {},
   "source": [
    "| Model                      | Accuracy | Loss     |\n",
    "|----------------------------|----------|----------|\n",
    "| CNN model with Relu        | 0.3630   | 6.3699   |\n",
    "| CNN model with Tanh        | 0.3709   | 4.1985   |\n",
    "| CNN model with Sigmoid     | 0.3626   | 3.9936   |\n"
   ]
  },
  {
   "cell_type": "markdown",
   "metadata": {},
   "source": [
    "Testing LSTM models"
   ]
  },
  {
   "cell_type": "code",
   "execution_count": 12,
   "metadata": {},
   "outputs": [],
   "source": [
    "#load the  LSTM models\n",
    "LSTM_model = tf.keras.models.load_model('LSTM_model')\n",
    "LSTM_Bi_model = tf.keras.models.load_model('LSTM_Bi_model')\n",
    "LSTM_Attention_model = tf.keras.models.load_model('LSTM_Attention_model')\n",
    "LSTM_Attention_Between_model = tf.keras.models.load_model('LSTM_Attention_Between_model')\n",
    "LSTM_Attention_Best_model = tf.keras.models.load_model('LSTM_Attention_Best_model')\n"
   ]
  },
  {
   "cell_type": "markdown",
   "metadata": {},
   "source": [
    "CLEAN DATA"
   ]
  },
  {
   "cell_type": "code",
   "execution_count": 16,
   "metadata": {},
   "outputs": [
    {
     "name": "stdout",
     "output_type": "stream",
     "text": [
      "5729/5729 [==============================] - 167s 29ms/step - loss: 0.4200 - accuracy: 0.8735\n",
      "LSTM model - Loss: 0.420012891292572, Accuracy: 0.8734582662582397\n",
      "5729/5729 [==============================] - 209s 36ms/step - loss: 0.2115 - accuracy: 0.9105\n",
      "Bidirectional LSTM model - Loss: 0.21147337555885315, Accuracy: 0.9105474352836609\n",
      "5729/5729 [==============================] - 288s 50ms/step - loss: 0.3351 - accuracy: 0.8827\n",
      "LSTM with Attention model - Loss: 0.33508560061454773, Accuracy: 0.882699191570282\n",
      "5729/5729 [==============================] - 313s 55ms/step - loss: 0.3414 - accuracy: 0.8806\n",
      "LSTM with Attention in Between model - Loss: 0.3413842022418976, Accuracy: 0.8806480765342712\n",
      "5729/5729 [==============================] - 336s 59ms/step - loss: 0.3455 - accuracy: 0.8802\n",
      "LSTM with Attention Best hyperparameters model - Loss: 0.3455374240875244, Accuracy: 0.8802225589752197\n"
     ]
    }
   ],
   "source": [
    "#testing the models\n",
    "\n",
    "# Evaluate the LSTM model\n",
    "loss, accuracy = LSTM_model.evaluate(X_test_clean, y_test_clean)\n",
    "print(f'LSTM model - Loss: {loss}, Accuracy: {accuracy}')\n",
    "\n",
    "# Evaluate the Bidirectional LSTM model\n",
    "loss, accuracy = LSTM_Bi_model.evaluate(X_test_clean, y_test_clean)\n",
    "print(f'Bidirectional LSTM model - Loss: {loss}, Accuracy: {accuracy}')\n",
    "\n",
    "# Evaluate the LSTM with Attention model\n",
    "loss, accuracy = LSTM_Attention_model.evaluate(X_test_clean, y_test_clean)\n",
    "print(f'LSTM with Attention model - Loss: {loss}, Accuracy: {accuracy}')\n",
    "\n",
    "# Evaluate the LSTM with Attention model\n",
    "loss, accuracy = LSTM_Attention_Between_model.evaluate(X_test_clean, y_test_clean)\n",
    "print(f'LSTM with Attention in Between model - Loss: {loss}, Accuracy: {accuracy}')\n",
    "\n",
    "# Evaluate the LSTM with Attention model\n",
    "loss, accuracy = LSTM_Attention_Best_model.evaluate(X_test_clean, y_test_clean)\n",
    "print(f'LSTM with Attention Best hyperparameters model - Loss: {loss}, Accuracy: {accuracy}')"
   ]
  },
  {
   "cell_type": "markdown",
   "metadata": {},
   "source": [
    "| Model                                  | Accuracy | Loss     |\n",
    "|----------------------------------------|----------|----------|\n",
    "| LSTM model                             | 0.8735   | 0.4200   |\n",
    "| Bidirectional LSTM model               | 0.9105   | 0.2115   |\n",
    "| LSTM with Attention model               | 0.8827   | 0.3351   |\n",
    "| LSTM with Attention in Between model   | 0.8806   | 0.3414   |\n",
    "| LSTM with Attention Best hyperparameters model | 0.8802 | 0.3455   |\n"
   ]
  },
  {
   "cell_type": "markdown",
   "metadata": {},
   "source": [
    "UNCLEAN DATA"
   ]
  },
  {
   "cell_type": "code",
   "execution_count": 19,
   "metadata": {},
   "outputs": [
    {
     "name": "stdout",
     "output_type": "stream",
     "text": [
      "5729/5729 [==============================] - 138s 24ms/step - loss: 4.2375 - accuracy: 0.3629\n",
      "LSTM model - Loss: 4.2374958992004395, Accuracy: 0.3629271984100342\n",
      "5729/5729 [==============================] - 182s 32ms/step - loss: 3.8392 - accuracy: 0.3651\n",
      "Bidirectional LSTM model - Loss: 3.8392131328582764, Accuracy: 0.36514195799827576\n",
      "5729/5729 [==============================] - 228s 40ms/step - loss: 3.7090 - accuracy: 0.3668\n",
      "LSTM with Attention model - Loss: 3.7089524269104004, Accuracy: 0.3667948544025421\n",
      "5729/5729 [==============================] - 420s 73ms/step - loss: 3.7730 - accuracy: 0.3646\n",
      "LSTM with Attention in Between model - Loss: 3.773002862930298, Accuracy: 0.3646128177642822\n",
      "5729/5729 [==============================] - 573s 100ms/step - loss: 3.7341 - accuracy: 0.3658\n",
      "LSTM with Attention Best hyperparameters model - Loss: 3.734067440032959, Accuracy: 0.36580750346183777\n"
     ]
    }
   ],
   "source": [
    "# Evaluate the LSTM model on unclean data\n",
    "loss, accuracy = LSTM_model.evaluate(X_test_unclean, y_test_unclean)\n",
    "print(f'LSTM model - Loss: {loss}, Accuracy: {accuracy}')\n",
    "\n",
    "# Evaluate the Bidirectional LSTM model on unclean data\n",
    "loss, accuracy = LSTM_Bi_model.evaluate(X_test_unclean, y_test_unclean)\n",
    "print(f'Bidirectional LSTM model - Loss: {loss}, Accuracy: {accuracy}')\n",
    "\n",
    "# Evaluate the LSTM with Attention model on unclean data\n",
    "loss, accuracy = LSTM_Attention_model.evaluate(X_test_unclean, y_test_unclean)\n",
    "print(f'LSTM with Attention model - Loss: {loss}, Accuracy: {accuracy}')\n",
    "\n",
    "# Evaluate the LSTM with Attention model on unclean data\n",
    "loss, accuracy = LSTM_Attention_Between_model.evaluate(X_test_unclean, y_test_unclean)\n",
    "print(f'LSTM with Attention in Between model - Loss: {loss}, Accuracy: {accuracy}')\n",
    "\n",
    "# Evaluate the LSTM with Attention model on unclean data\n",
    "loss, accuracy = LSTM_Attention_Best_model.evaluate(X_test_unclean, y_test_unclean)\n",
    "print(f'LSTM with Attention Best hyperparameters model - Loss: {loss}, Accuracy: {accuracy}')"
   ]
  },
  {
   "cell_type": "markdown",
   "metadata": {},
   "source": [
    "| Model                                  | Accuracy | Loss     |\n",
    "|----------------------------------------|----------|----------|\n",
    "| LSTM model                             | 0.3629   | 4.2375   |\n",
    "| Bidirectional LSTM model               | 0.3651   | 3.8392   |\n",
    "| LSTM with Attention model              | 0.3668   | 3.7090   |\n",
    "| LSTM with Attention in Between model   | 0.3646   | 3.7730   |\n",
    "| LSTM with Attention Best hyperparameters model | 0.3658 | 3.7341   |\n"
   ]
  },
  {
   "cell_type": "markdown",
   "metadata": {},
   "source": [
    "Lets evaluate the models when trained with unclean data"
   ]
  },
  {
   "cell_type": "markdown",
   "metadata": {},
   "source": [
    "CNN models"
   ]
  },
  {
   "cell_type": "code",
   "execution_count": 20,
   "metadata": {},
   "outputs": [],
   "source": [
    "#load CNN models\n",
    "CNN_model_unclean = tf.keras.models.load_model('CNN_model2')\n",
    "CNN_Tanh_unclean = tf.keras.models.load_model('CNN_model_Tanh2')\n",
    "CNN_Sigmoid_unclean = tf.keras.models.load_model('CNN_model_Sigmoid2')"
   ]
  },
  {
   "cell_type": "code",
   "execution_count": 21,
   "metadata": {},
   "outputs": [
    {
     "name": "stdout",
     "output_type": "stream",
     "text": [
      "5729/5729 [==============================] - 24s 4ms/step - loss: 1.0456 - accuracy: 0.7812\n",
      "CNN model with Relu accuracy: 0.781239926815033, loss: 1.0455505847930908\n",
      "5729/5729 [==============================] - 23s 4ms/step - loss: 0.2461 - accuracy: 0.9025\n",
      "CNN model with Tanh accuracy: 0.9025120735168457 , loss: 0.24609433114528656\n",
      "5729/5729 [==============================] - 23s 4ms/step - loss: 0.2584 - accuracy: 0.8991\n",
      "CNN model with Sigmoid accuracy: 0.8990644812583923, loss: 0.2583971917629242\n"
     ]
    }
   ],
   "source": [
    "#eval the models\n",
    "loss, accuracy = CNN_model_unclean.evaluate(X_test_unclean, y_test_unclean)\n",
    "print(f'CNN model with Relu accuracy: {accuracy}, loss: {loss}')\n",
    "\n",
    "loss, accuracy = CNN_Tanh_unclean.evaluate(X_test_unclean, y_test_unclean)\n",
    "print(f'CNN model with Tanh accuracy: {accuracy} , loss: {loss}')\n",
    "\n",
    "loss, accuracy = CNN_Sigmoid_unclean.evaluate(X_test_unclean, y_test_unclean)\n",
    "print(f'CNN model with Sigmoid accuracy: {accuracy}, loss: {loss}')"
   ]
  },
  {
   "cell_type": "markdown",
   "metadata": {},
   "source": [
    "| Model                      | Accuracy | Loss     |\n",
    "|----------------------------|----------|----------|\n",
    "| CNN model with Relu        | 0.7812   | 1.0456   |\n",
    "| CNN model with Tanh        | 0.9025   | 0.2461   |\n",
    "| CNN model with Sigmoid     | 0.8991   | 0.2584   |\n"
   ]
  },
  {
   "cell_type": "code",
   "execution_count": 22,
   "metadata": {},
   "outputs": [
    {
     "name": "stdout",
     "output_type": "stream",
     "text": [
      "5729/5729 [==============================] - 23s 4ms/step - loss: 3.5970 - accuracy: 0.3276\n",
      "CNN model with Relu accuracy: 0.32760003209114075, loss: 3.5969834327697754\n",
      "5729/5729 [==============================] - 24s 4ms/step - loss: 2.8005 - accuracy: 0.3353\n",
      "CNN model with Tanh accuracy: 0.3352535367012024 , loss: 2.8005011081695557\n",
      "5729/5729 [==============================] - 24s 4ms/step - loss: 2.9789 - accuracy: 0.3258\n",
      "CNN model with Sigmoid accuracy: 0.3257780373096466, loss: 2.97892427444458\n"
     ]
    }
   ],
   "source": [
    "#evasl these woith clean data\n",
    "loss, accuracy = CNN_model_unclean.evaluate(X_test_clean, y_test_clean)\n",
    "print(f'CNN model with Relu accuracy: {accuracy}, loss: {loss}')\n",
    "\n",
    "loss, accuracy = CNN_Tanh_unclean.evaluate(X_test_clean, y_test_clean)\n",
    "print(f'CNN model with Tanh accuracy: {accuracy} , loss: {loss}')\n",
    "\n",
    "loss, accuracy = CNN_Sigmoid_unclean.evaluate(X_test_clean, y_test_clean)\n",
    "print(f'CNN model with Sigmoid accuracy: {accuracy}, loss: {loss}')"
   ]
  },
  {
   "cell_type": "markdown",
   "metadata": {},
   "source": [
    "| Model                      | Accuracy | Loss     |\n",
    "|----------------------------|----------|----------|\n",
    "| CNN model with Relu        | 0.3276   | 3.5970   |\n",
    "| CNN model with Tanh        | 0.3353   | 2.8005   |\n",
    "| CNN model with Sigmoid     | 0.3258   | 2.9789   |\n"
   ]
  },
  {
   "cell_type": "markdown",
   "metadata": {},
   "source": [
    "LSTM models"
   ]
  },
  {
   "cell_type": "code",
   "execution_count": 26,
   "metadata": {},
   "outputs": [],
   "source": [
    "#load the  LSTM models\n",
    "LSTM_model_unclean = tf.keras.models.load_model('LSTM_model2')\n",
    "LSTM_Bi_model_unclean = tf.keras.models.load_model('LSTM_Bi_model2')\n",
    "LSTM_Attention_model_unclean = tf.keras.models.load_model('LSTM_Attention_model2')\n",
    "LSTM_Attention_Between_model_unclean = tf.keras.models.load_model('LSTM_Attention_Between_model2')\n",
    "LSTM_Attention_Best_model_unclean = tf.keras.models.load_model('LSTM_Attention_Best_model2')"
   ]
  },
  {
   "cell_type": "code",
   "execution_count": 27,
   "metadata": {},
   "outputs": [
    {
     "name": "stdout",
     "output_type": "stream",
     "text": [
      "5729/5729 [==============================] - 200s 34ms/step - loss: 0.7606 - accuracy: 0.7926\n",
      "LSTM model - Loss: 0.7605955004692078, Accuracy: 0.792608380317688\n",
      "5729/5729 [==============================] - 483s 83ms/step - loss: 0.7911 - accuracy: 0.7895\n",
      "Bidirectional LSTM model - Loss: 0.7911399006843567, Accuracy: 0.7895317077636719\n",
      "5729/5729 [==============================] - 448s 77ms/step - loss: 0.2097 - accuracy: 0.9109\n",
      "LSTM with Attention model - Loss: 0.20965580642223358, Accuracy: 0.9109074473381042\n",
      "5729/5729 [==============================] - 4684s 817ms/step - loss: 0.2087 - accuracy: 0.9122\n",
      "LSTM with Attention in Between model - Loss: 0.20865486562252045, Accuracy: 0.912222146987915\n",
      "5729/5729 [==============================] - 688s 116ms/step - loss: 0.8142 - accuracy: 0.7907\n",
      "LSTM with Attention Best hyperparameters model - Loss: 0.8142003417015076, Accuracy: 0.7906663417816162\n"
     ]
    }
   ],
   "source": [
    "#eval the models\n",
    "# Evaluate the LSTM model\n",
    "loss, accuracy = LSTM_model_unclean.evaluate(X_test_unclean, y_test_unclean)\n",
    "print(f'LSTM model - Loss: {loss}, Accuracy: {accuracy}')\n",
    "\n",
    "# Evaluate the Bidirectional LSTM model\n",
    "loss, accuracy = LSTM_Bi_model_unclean.evaluate(X_test_unclean, y_test_unclean)\n",
    "print(f'Bidirectional LSTM model - Loss: {loss}, Accuracy: {accuracy}')\n",
    "\n",
    "# Evaluate the LSTM with Attention model\n",
    "loss, accuracy = LSTM_Attention_model_unclean.evaluate(X_test_unclean, y_test_unclean)\n",
    "print(f'LSTM with Attention model - Loss: {loss}, Accuracy: {accuracy}')\n",
    "\n",
    "# Evaluate the LSTM with Attention model\n",
    "loss, accuracy = LSTM_Attention_Between_model_unclean.evaluate(X_test_unclean, y_test_unclean)\n",
    "print(f'LSTM with Attention in Between model - Loss: {loss}, Accuracy: {accuracy}')\n",
    "\n",
    "# Evaluate the LSTM with Attention model\n",
    "loss, accuracy = LSTM_Attention_Best_model_unclean.evaluate(X_test_unclean, y_test_unclean)\n",
    "print(f'LSTM with Attention Best hyperparameters model - Loss: {loss}, Accuracy: {accuracy}')\n"
   ]
  },
  {
   "cell_type": "markdown",
   "metadata": {},
   "source": [
    "| Model                                  | Accuracy | Loss     |\n",
    "|----------------------------------------|----------|----------|\n",
    "| LSTM model                             | 0.7926   | 0.7606   |\n",
    "| Bidirectional LSTM model               | 0.7895   | 0.7911   |\n",
    "| LSTM with Attention model              | 0.9109   | 0.2097   |\n",
    "| LSTM with Attention in Between model   | 0.9122   | 0.2087   |\n",
    "| LSTM with Attention Best hyperparameters model | 0.7907 | 0.8142   |\n"
   ]
  },
  {
   "cell_type": "code",
   "execution_count": 28,
   "metadata": {},
   "outputs": [
    {
     "name": "stdout",
     "output_type": "stream",
     "text": [
      "5729/5729 [==============================] - 224s 39ms/step - loss: 2.6503 - accuracy: 0.3347\n",
      "LSTM model - Loss: 2.6503100395202637, Accuracy: 0.33474621176719666\n",
      "5729/5729 [==============================] - 414s 72ms/step - loss: 2.5787 - accuracy: 0.3264\n",
      "Bidirectional LSTM model - Loss: 2.5787415504455566, Accuracy: 0.32639992237091064\n",
      "5729/5729 [==============================] - 512s 89ms/step - loss: 2.9805 - accuracy: 0.3384\n",
      "LSTM with Attention model - Loss: 2.980518102645874, Accuracy: 0.33843928575515747\n",
      "5729/5729 [==============================] - 527s 92ms/step - loss: 2.7619 - accuracy: 0.3380\n",
      "LSTM with Attention in Between model - Loss: 2.761898994445801, Accuracy: 0.3380083441734314\n",
      "5729/5729 [==============================] - 568s 99ms/step - loss: 3.0649 - accuracy: 0.3324\n",
      "LSTM with Attention Best hyperparameters model - Loss: 3.0649240016937256, Accuracy: 0.3324332535266876\n"
     ]
    }
   ],
   "source": [
    "#eval on clean\n",
    "\n",
    "loss, accuracy = LSTM_model_unclean.evaluate(X_test_clean, y_test_clean)\n",
    "print(f'LSTM model - Loss: {loss}, Accuracy: {accuracy}')\n",
    "\n",
    "# Evaluate the Bidirectional LSTM model\n",
    "loss, accuracy = LSTM_Bi_model_unclean.evaluate(X_test_clean, y_test_clean)\n",
    "print(f'Bidirectional LSTM model - Loss: {loss}, Accuracy: {accuracy}')\n",
    "\n",
    "# Evaluate the LSTM with Attention model\n",
    "loss, accuracy = LSTM_Attention_model_unclean.evaluate(X_test_clean, y_test_clean)\n",
    "print(f'LSTM with Attention model - Loss: {loss}, Accuracy: {accuracy}')\n",
    "\n",
    "# Evaluate the LSTM with Attention model\n",
    "loss, accuracy = LSTM_Attention_Between_model_unclean.evaluate(X_test_clean, y_test_clean)\n",
    "print(f'LSTM with Attention in Between model - Loss: {loss}, Accuracy: {accuracy}')\n",
    "\n",
    "# Evaluate the LSTM with Attention model\n",
    "loss, accuracy = LSTM_Attention_Best_model_unclean.evaluate(X_test_clean, y_test_clean)\n",
    "print(f'LSTM with Attention Best hyperparameters model - Loss: {loss}, Accuracy: {accuracy}')"
   ]
  },
  {
   "cell_type": "markdown",
   "metadata": {},
   "source": [
    "| Model                                  | Accuracy | Loss     |\n",
    "|----------------------------------------|----------|----------|\n",
    "| LSTM model                             | 0.3347   | 2.6503   |\n",
    "| Bidirectional LSTM model               | 0.3264   | 2.5787   |\n",
    "| LSTM with Attention model              | 0.3384   | 2.9805   |\n",
    "| LSTM with Attention in Between model   | 0.3380   | 2.7619   |\n",
    "| LSTM with Attention Best hyperparameters model | 0.3324 | 3.0649   |\n"
   ]
  },
  {
   "cell_type": "markdown",
   "metadata": {},
   "source": [
    "Lets explore deeper and wider versions"
   ]
  },
  {
   "cell_type": "markdown",
   "metadata": {},
   "source": [
    "CNN models"
   ]
  },
  {
   "cell_type": "code",
   "execution_count": 7,
   "metadata": {},
   "outputs": [],
   "source": [
    "#load CNN models\n",
    "CNN_model_Deep = tf.keras.models.load_model('CNN_modelDeep')\n",
    "CNN_model_Wide = tf.keras.models.load_model('CNN_modelWide')\n",
    "CNN_model_Sigmoid_Wide = tf.keras.models.load_model('CNN_model_Sigmoid_Wide')\n",
    "CNN_model_Sigmoid_Deep = tf.keras.models.load_model('CNN_model_Sigmoid_Deep')\n",
    "CNN_model_Tanh_Wide = tf.keras.models.load_model('CNN_model_Tanh_Wide')\n",
    "CNN_model_Tanh_Deep = tf.keras.models.load_model('CNN_model_Tanh_Deep')"
   ]
  },
  {
   "cell_type": "code",
   "execution_count": 8,
   "metadata": {},
   "outputs": [
    {
     "name": "stdout",
     "output_type": "stream",
     "text": [
      "5729/5729 [==============================] - 16s 3ms/step - loss: 0.2444 - accuracy: 0.9050\n",
      "Deep CNN model with Relu accuracy: 0.9049614071846008, loss: 0.24435481429100037\n",
      "5729/5729 [==============================] - 23s 4ms/step - loss: 0.2679 - accuracy: 0.9043\n",
      "Wide CNN model with Relu accuracy: 0.904323160648346, loss: 0.2678716778755188\n",
      "5729/5729 [==============================] - 22s 4ms/step - loss: 0.2693 - accuracy: 0.8994\n",
      "Wide CNN model with Sigmpoid accuracy: 0.8994244933128357, loss: 0.2692873775959015\n",
      "5729/5729 [==============================] - 14s 2ms/step - loss: 0.2383 - accuracy: 0.9053\n",
      "Deep CNN model with Sigmpoid accuracy: 0.9052832722663879, loss: 0.23827773332595825\n",
      "5729/5729 [==============================] - 20s 3ms/step - loss: 0.2656 - accuracy: 0.9007\n",
      "Wide CNN model with Tanh accuracy: 0.9006573557853699, loss: 0.2655893862247467\n",
      "5729/5729 [==============================] - 15s 3ms/step - loss: 0.2428 - accuracy: 0.9018\n",
      "Deep CNN model with Tanh accuracy: 0.9017701745033264, loss: 0.24282917380332947\n"
     ]
    }
   ],
   "source": [
    "#eval the models\n",
    "loss, accuracy = CNN_model_Deep.evaluate(X_test_clean, y_test_clean)\n",
    "print(f'Deep CNN model with Relu accuracy: {accuracy}, loss: {loss}')\n",
    "\n",
    "loss, accuracy = CNN_model_Wide.evaluate(X_test_clean, y_test_clean)\n",
    "print(f'Wide CNN model with Relu accuracy: {accuracy}, loss: {loss}')\n",
    "\n",
    "loss, accuracy = CNN_model_Sigmoid_Wide.evaluate(X_test_clean, y_test_clean)\n",
    "print(f'Wide CNN model with Sigmpoid accuracy: {accuracy}, loss: {loss}')\n",
    "\n",
    "loss, accuracy = CNN_model_Sigmoid_Deep.evaluate(X_test_clean, y_test_clean)\n",
    "print(f'Deep CNN model with Sigmpoid accuracy: {accuracy}, loss: {loss}')\n",
    "\n",
    "loss, accuracy = CNN_model_Tanh_Wide.evaluate(X_test_clean, y_test_clean)\n",
    "print(f'Wide CNN model with Tanh accuracy: {accuracy}, loss: {loss}')\n",
    "\n",
    "loss, accuracy = CNN_model_Tanh_Deep.evaluate(X_test_clean, y_test_clean)\n",
    "print(f'Deep CNN model with Tanh accuracy: {accuracy}, loss: {loss}')\n",
    "\n"
   ]
  },
  {
   "cell_type": "markdown",
   "metadata": {},
   "source": [
    "| Model                     | Accuracy | Loss     |\n",
    "|---------------------------|----------|----------|\n",
    "| Deep CNN with Relu        | 0.9050   | 0.2444   |\n",
    "| Wide CNN with Relu        | 0.9043   | 0.2679   |\n",
    "| Wide CNN with Sigmoid     | 0.8994   | 0.2693   |\n",
    "| Deep CNN with Sigmoid     | 0.9053   | 0.2383   |\n",
    "| Wide CNN with Tanh        | 0.9007   | 0.2656   |\n",
    "| Deep CNN with Tanh        | 0.9018   | 0.2428   |\n"
   ]
  },
  {
   "cell_type": "code",
   "execution_count": 9,
   "metadata": {},
   "outputs": [
    {
     "name": "stdout",
     "output_type": "stream",
     "text": [
      "5729/5729 [==============================] - 14s 2ms/step - loss: 6.7808 - accuracy: 0.3654\n",
      "Deep CNN model with Relu accuracy: 0.365447461605072, loss: 6.780791282653809\n",
      "5729/5729 [==============================] - 20s 3ms/step - loss: 7.2220 - accuracy: 0.3639\n",
      "Wide CNN model with Relu accuracy: 0.36390912532806396, loss: 7.221972942352295\n",
      "5729/5729 [==============================] - 21s 4ms/step - loss: 4.3606 - accuracy: 0.3608\n",
      "Wide CNN model with Sigmpoid accuracy: 0.360816091299057, loss: 4.360630989074707\n",
      "5729/5729 [==============================] - 16s 3ms/step - loss: 3.7525 - accuracy: 0.3694\n",
      "Deep CNN model with Sigmpoid accuracy: 0.3694242238998413, loss: 3.7524960041046143\n",
      "5729/5729 [==============================] - 21s 4ms/step - loss: 4.3768 - accuracy: 0.3649\n",
      "Wide CNN model with Tanh accuracy: 0.3648964762687683, loss: 4.376848220825195\n",
      "5729/5729 [==============================] - 16s 3ms/step - loss: 3.7347 - accuracy: 0.3669\n",
      "Deep CNN model with Tanh accuracy: 0.36691486835479736, loss: 3.7347216606140137\n"
     ]
    }
   ],
   "source": [
    "#eval on unclean\n",
    "\n",
    "loss, accuracy = CNN_model_Deep.evaluate(X_test_unclean, y_test_unclean)\n",
    "print(f'Deep CNN model with Relu accuracy: {accuracy}, loss: {loss}')\n",
    "\n",
    "loss, accuracy = CNN_model_Wide.evaluate(X_test_unclean, y_test_unclean)\n",
    "print(f'Wide CNN model with Relu accuracy: {accuracy}, loss: {loss}')\n",
    "\n",
    "loss, accuracy = CNN_model_Sigmoid_Wide.evaluate(X_test_unclean, y_test_unclean)\n",
    "print(f'Wide CNN model with Sigmpoid accuracy: {accuracy}, loss: {loss}')\n",
    "\n",
    "loss, accuracy = CNN_model_Sigmoid_Deep.evaluate(X_test_unclean, y_test_unclean)\n",
    "print(f'Deep CNN model with Sigmpoid accuracy: {accuracy}, loss: {loss}')\n",
    "\n",
    "loss, accuracy = CNN_model_Tanh_Wide.evaluate(X_test_unclean, y_test_unclean)\n",
    "print(f'Wide CNN model with Tanh accuracy: {accuracy}, loss: {loss}')\n",
    "\n",
    "loss, accuracy = CNN_model_Tanh_Deep.evaluate(X_test_unclean, y_test_unclean)\n",
    "print(f'Deep CNN model with Tanh accuracy: {accuracy}, loss: {loss}')\n",
    "\n"
   ]
  },
  {
   "cell_type": "markdown",
   "metadata": {},
   "source": [
    "| Model                     | Accuracy | Loss     |\n",
    "|---------------------------|----------|----------|\n",
    "| Deep CNN with Relu        | 0.3654   | 6.7808   |\n",
    "| Wide CNN with Relu        | 0.3639   | 7.2220   |\n",
    "| Wide CNN with Sigmoid     | 0.3608   | 4.3606   |\n",
    "| Deep CNN with Sigmoid     | 0.3694   | 3.7525   |\n",
    "| Wide CNN with Tanh        | 0.3649   | 4.3768   |\n",
    "| Deep CNN with Tanh        | 0.3669   | 3.7347   |\n"
   ]
  },
  {
   "cell_type": "markdown",
   "metadata": {},
   "source": [
    "LSTM Models"
   ]
  },
  {
   "cell_type": "code",
   "execution_count": 11,
   "metadata": {},
   "outputs": [],
   "source": [
    "LSTM_Bi_model_Deep = tf.keras.models.load_model('LSTM_Bi_modelDeep')\n",
    "LSTM_Bi_model_Wide = tf.keras.models.load_model('LSTM_Bi_modelWide')\n",
    "LSTM_Attention_model_Deep = tf.keras.models.load_model('LSTM_Attention_modelDeep')\n",
    "LSTM_Attention_model_Wide = tf.keras.models.load_model('LSTM_Attention_modelWide')\n"
   ]
  },
  {
   "cell_type": "code",
   "execution_count": 12,
   "metadata": {},
   "outputs": [
    {
     "name": "stdout",
     "output_type": "stream",
     "text": [
      "5729/5729 [==============================] - 135s 23ms/step - loss: 0.2138 - accuracy: 0.9095\n",
      "Deep Bidirectional LSTM model - Loss: 0.21381835639476776, Accuracy: 0.9094836711883545\n",
      "5729/5729 [==============================] - 213s 37ms/step - loss: 0.2097 - accuracy: 0.9104\n",
      "Wide Bidirectional LSTM model - Loss: 0.20974062383174896, Accuracy: 0.910389244556427\n",
      "5729/5729 [==============================] - 519s 90ms/step - loss: 0.2140 - accuracy: 0.9083\n",
      "Deep Attention LSTM model - Loss: 0.2139802873134613, Accuracy: 0.9082617163658142\n",
      "5729/5729 [==============================] - 631s 110ms/step - loss: 0.2133 - accuracy: 0.9086\n",
      "Wide Attention LSTM model - Loss: 0.21325065195560455, Accuracy: 0.9086217880249023\n"
     ]
    }
   ],
   "source": [
    "#eval the models\n",
    "loss, accuracy = LSTM_Bi_model_Deep.evaluate(X_test_clean, y_test_clean)\n",
    "print(f'Deep Bidirectional LSTM model - Loss: {loss}, Accuracy: {accuracy}')\n",
    "\n",
    "loss, accuracy = LSTM_Bi_model_Wide.evaluate(X_test_clean, y_test_clean)\n",
    "print(f'Wide Bidirectional LSTM model - Loss: {loss}, Accuracy: {accuracy}')\n",
    "\n",
    "loss, accuracy = LSTM_Attention_model_Deep.evaluate(X_test_clean, y_test_clean)\n",
    "print(f'Deep Attention LSTM model - Loss: {loss}, Accuracy: {accuracy}')\n",
    "\n",
    "loss, accuracy = LSTM_Attention_model_Wide.evaluate(X_test_clean, y_test_clean)\n",
    "print(f'Wide Attention LSTM model - Loss: {loss}, Accuracy: {accuracy}')"
   ]
  },
  {
   "cell_type": "markdown",
   "metadata": {},
   "source": [
    "| Model                        | Accuracy | Loss    |\n",
    "|------------------------------|----------|---------|\n",
    "| Deep Bidirectional LSTM      | 0.9095   | 0.2138  |\n",
    "| Wide Bidirectional LSTM      | 0.9104   | 0.2097  |\n",
    "| Deep Attention LSTM          | 0.9083   | 0.2140  |\n",
    "| Wide Attention LSTM          | 0.9086   | 0.2133  |\n"
   ]
  },
  {
   "cell_type": "code",
   "execution_count": 13,
   "metadata": {},
   "outputs": [
    {
     "name": "stdout",
     "output_type": "stream",
     "text": [
      "   1/5729 [..............................] - ETA: 4:05 - loss: 4.5642 - accuracy: 0.2812"
     ]
    },
    {
     "name": "stdout",
     "output_type": "stream",
     "text": [
      "5729/5729 [==============================] - 135s 23ms/step - loss: 3.7892 - accuracy: 0.3672\n",
      "Deep Bidirectional LSTM model - Loss: 3.7891995906829834, Accuracy: 0.3672312796115875\n",
      "5729/5729 [==============================] - 227s 40ms/step - loss: 3.7924 - accuracy: 0.3654\n",
      "Wide Bidirectional LSTM model - Loss: 3.79241681098938, Accuracy: 0.36540380120277405\n",
      "5729/5729 [==============================] - 556s 97ms/step - loss: 3.1003 - accuracy: 0.3576\n",
      "Deep Attention LSTM model - Loss: 3.100304126739502, Accuracy: 0.3575811982154846\n",
      "5729/5729 [==============================] - 670s 117ms/step - loss: 3.4582 - accuracy: 0.3661\n",
      "Wide Attention LSTM model - Loss: 3.458219528198242, Accuracy: 0.3660966157913208\n"
     ]
    }
   ],
   "source": [
    "#eval on unclean\n",
    "loss, accuracy = LSTM_Bi_model_Deep.evaluate(X_test_unclean, y_test_unclean)\n",
    "print(f'Deep Bidirectional LSTM model - Loss: {loss}, Accuracy: {accuracy}')\n",
    "\n",
    "loss, accuracy = LSTM_Bi_model_Wide.evaluate(X_test_unclean, y_test_unclean)\n",
    "print(f'Wide Bidirectional LSTM model - Loss: {loss}, Accuracy: {accuracy}')\n",
    "\n",
    "loss, accuracy = LSTM_Attention_model_Deep.evaluate(X_test_unclean, y_test_unclean)\n",
    "print(f'Deep Attention LSTM model - Loss: {loss}, Accuracy: {accuracy}')\n",
    "\n",
    "loss, accuracy = LSTM_Attention_model_Wide.evaluate(X_test_unclean, y_test_unclean)\n",
    "print(f'Wide Attention LSTM model - Loss: {loss}, Accuracy: {accuracy}')"
   ]
  },
  {
   "cell_type": "markdown",
   "metadata": {},
   "source": [
    "| Model                        | Accuracy | Loss    |\n",
    "|------------------------------|----------|---------|\n",
    "| Deep Bidirectional LSTM      | 0.3672   | 3.7892  |\n",
    "| Wide Bidirectional LSTM      | 0.3654   | 3.7924  |\n",
    "| Deep Attention LSTM          | 0.3576   | 3.1003  |\n",
    "| Wide Attention LSTM          | 0.3661   | 3.4582  |\n"
   ]
  },
  {
   "cell_type": "markdown",
   "metadata": {},
   "source": [
    "Now taking the best LSTM and the best CNN lets make 2 conbined models and see if there is a difference"
   ]
  },
  {
   "cell_type": "code",
   "execution_count": 14,
   "metadata": {},
   "outputs": [],
   "source": [
    "LSTM_CNN_model = tf.keras.models.load_model('LSTM_CNN_model')\n",
    "CNN_LSTM_model = tf.keras.models.load_model('CNN_LSTM_model')"
   ]
  },
  {
   "cell_type": "code",
   "execution_count": 15,
   "metadata": {},
   "outputs": [
    {
     "name": "stdout",
     "output_type": "stream",
     "text": [
      "5729/5729 [==============================] - 239s 41ms/step - loss: 0.2067 - accuracy: 0.9115\n",
      "LSTM CNN model - Loss: 0.20674003660678864, Accuracy: 0.9114911556243896\n",
      "5729/5729 [==============================] - 31s 5ms/step - loss: 0.2200 - accuracy: 0.9071\n",
      "CNN LSTM model - Loss: 0.21999554336071014, Accuracy: 0.9071106910705566\n"
     ]
    }
   ],
   "source": [
    "#eval the models\n",
    "loss, accuracy = LSTM_CNN_model.evaluate(X_test_clean, y_test_clean)\n",
    "print(f'LSTM CNN model - Loss: {loss}, Accuracy: {accuracy}')\n",
    "\n",
    "loss, accuracy = CNN_LSTM_model.evaluate(X_test_clean, y_test_clean)\n",
    "print(f'CNN LSTM model - Loss: {loss}, Accuracy: {accuracy}')"
   ]
  },
  {
   "cell_type": "code",
   "execution_count": 16,
   "metadata": {},
   "outputs": [
    {
     "name": "stdout",
     "output_type": "stream",
     "text": [
      "5729/5729 [==============================] - 235s 41ms/step - loss: 3.9538 - accuracy: 0.3658\n",
      "LSTM CNN model - Loss: 3.953833818435669, Accuracy: 0.3657638430595398\n",
      "5729/5729 [==============================] - 29s 5ms/step - loss: 3.5841 - accuracy: 0.3647\n",
      "CNN LSTM model - Loss: 3.5841047763824463, Accuracy: 0.3647491931915283\n"
     ]
    }
   ],
   "source": [
    "#unlean\n",
    "loss, accuracy = LSTM_CNN_model.evaluate(X_test_unclean, y_test_unclean)\n",
    "print(f'LSTM CNN model - Loss: {loss}, Accuracy: {accuracy}')\n",
    "\n",
    "loss, accuracy = CNN_LSTM_model.evaluate(X_test_unclean, y_test_unclean)\n",
    "print(f'CNN LSTM model - Loss: {loss}, Accuracy: {accuracy}')"
   ]
  },
  {
   "cell_type": "markdown",
   "metadata": {},
   "source": [
    "Trained the LSTM CNN on unclean data and clean data, will this improve bith ot just one"
   ]
  },
  {
   "cell_type": "code",
   "execution_count": 19,
   "metadata": {},
   "outputs": [],
   "source": [
    "LSTM_CNN_model_Final = tf.keras.models.load_model('LSTM_CNN_model_unclean')"
   ]
  },
  {
   "cell_type": "code",
   "execution_count": 20,
   "metadata": {},
   "outputs": [
    {
     "name": "stdout",
     "output_type": "stream",
     "text": [
      "5729/5729 [==============================] - 256s 44ms/step - loss: 0.2046 - accuracy: 0.9114\n",
      "LSTM CNN model on unclean data - Loss: 0.20464429259300232, Accuracy: 0.9113875031471252\n",
      "5729/5729 [==============================] - 255s 44ms/step - loss: 0.2102 - accuracy: 0.9095\n",
      "LSTM CNN model on clean data - Loss: 0.21021819114685059, Accuracy: 0.9094727635383606\n"
     ]
    }
   ],
   "source": [
    "#eval the model\n",
    "loss, accuracy = LSTM_CNN_model_Final.evaluate(X_test_unclean, y_test_unclean)\n",
    "print(f'LSTM CNN model on unclean data - Loss: {loss}, Accuracy: {accuracy}')\n",
    "\n",
    "#eval on clean\n",
    "loss, accuracy = LSTM_CNN_model_Final.evaluate(X_test_clean, y_test_clean)\n",
    "print(f'LSTM CNN model on clean data - Loss: {loss}, Accuracy: {accuracy}')"
   ]
  }
 ],
 "metadata": {
  "kernelspec": {
   "display_name": "base",
   "language": "python",
   "name": "python3"
  },
  "language_info": {
   "codemirror_mode": {
    "name": "ipython",
    "version": 3
   },
   "file_extension": ".py",
   "mimetype": "text/x-python",
   "name": "python",
   "nbconvert_exporter": "python",
   "pygments_lexer": "ipython3",
   "version": "3.11.4"
  }
 },
 "nbformat": 4,
 "nbformat_minor": 2
}
